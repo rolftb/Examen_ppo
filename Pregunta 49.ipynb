{
 "cells": [
  {
   "cell_type": "code",
   "execution_count": 1,
   "metadata": {},
   "outputs": [],
   "source": [
    "import numpy as np\n",
    "from numpy import random\n",
    "import collections\n",
    "import time"
   ]
  },
  {
   "cell_type": "markdown",
   "metadata": {},
   "source": [
    "# Parametros del modelo"
   ]
  },
  {
   "cell_type": "code",
   "execution_count": 2,
   "metadata": {},
   "outputs": [],
   "source": [
    "# Información problema\n",
    "S=4       #capacidad max y tamaño de lote\n",
    "a=1       #Demanda minima\n",
    "b=2       #Demanda maxima\n",
    "cost=300  #costo de la cerveza\n",
    "k=100     #costo de realizar el pedido  \n",
    "h=300     #costo de inventario sobrante\n",
    "price=1500#precio cerveza \n",
    "\n",
    "\n",
    "tamano_L=3 # se fdefine para hacer pruebas"
   ]
  },
  {
   "cell_type": "markdown",
   "metadata": {},
   "source": [
    "#### Generó las demandas"
   ]
  },
  {
   "cell_type": "code",
   "execution_count": 3,
   "metadata": {
    "scrolled": true
   },
   "outputs": [
    {
     "data": {
      "text/plain": [
       "array([2, 2, 1, 2])"
      ]
     },
     "execution_count": 3,
     "metadata": {},
     "output_type": "execute_result"
    }
   ],
   "source": [
    "random.seed(10)\n",
    "total=4# cantidad de periodos o semanas\n",
    "D=random.randint(a,b+1, size=(total)) #emanda para cada uno de los 4 periodos\n",
    "D"
   ]
  },
  {
   "cell_type": "code",
   "execution_count": 4,
   "metadata": {},
   "outputs": [],
   "source": [
    "def reward(i,D_i):\n",
    "        dem=D_i\n",
    "        r_dem=price*min(dem,i)\n",
    "        if(dem>=i):\n",
    "            r_dem+=-(price-cost)*(dem-i) #costo perdida clientes\n",
    "        else:\n",
    "            #if(dem<i):#Agrego costo de inventario sobrante\n",
    "            r_dem+= -(h)*(i-dem)\n",
    "        r =(r_dem)\n",
    "        return r"
   ]
  },
  {
   "cell_type": "code",
   "execution_count": 5,
   "metadata": {
    "scrolled": true
   },
   "outputs": [
    {
     "data": {
      "text/plain": [
       "2700"
      ]
     },
     "execution_count": 5,
     "metadata": {},
     "output_type": "execute_result"
    }
   ],
   "source": [
    "reward(3,D[0])#D_i demanda en en periodo i"
   ]
  },
  {
   "cell_type": "code",
   "execution_count": 6,
   "metadata": {},
   "outputs": [],
   "source": [
    "def retorno_decision(d,tamano_L,S,D_i,i):\n",
    "    #d es la decision compro o no compro\n",
    "    # i es el nivel de inventario al inicio del periodo\n",
    "    #S=4       #capacidad max y tamaño de lote\n",
    "    #costo=300  #precio cerveza y costo perdida clientes\n",
    "    #k=100     #costo de realizar el pedido  \n",
    "    #price=1500\n",
    "    \n",
    "    B=0 #retorno\n",
    "    cant_comprada_i=tamano_L*d\n",
    "    if cant_comprada_i>0:\n",
    "    #Juan decide comprar mas cerveza.\n",
    "        if(cant_comprada_i+i<=S):\n",
    "        #La compra más el inventario debe ser menor a Cap max\n",
    "            B=reward(cant_comprada_i+i,D_i)\n",
    "            B+=-cost*(cant_comprada_i)-k\n",
    "        else:\n",
    "            B+=-cost*(cant_comprada_i)\n",
    "            # Regalo las cervezas que no puedo guardar\n",
    "    else:\n",
    "        B=reward(i,D_i)\n",
    "    return(B)\n",
    "    "
   ]
  },
  {
   "cell_type": "code",
   "execution_count": 7,
   "metadata": {
    "scrolled": true
   },
   "outputs": [
    {
     "data": {
      "text/plain": [
       "2700"
      ]
     },
     "execution_count": 7,
     "metadata": {},
     "output_type": "execute_result"
    }
   ],
   "source": [
    "retorno_decision(0,tamano_L,S,D[1],3)"
   ]
  },
  {
   "cell_type": "code",
   "execution_count": 8,
   "metadata": {},
   "outputs": [],
   "source": [
    "def Retorno_lote(tamano_L,S,D,):\n",
    "    l=len(D)\n",
    "    Decion=[[ 0 for i in range(S)]for i in range(l)]\n",
    "    R_D=[[ 0 for i in range(S)]for i in range(l)]\n",
    "    for i in range(l-1,-1,-1):#periodo desde el ultimo periodo al anterior\n",
    "        for s in range(S):#niveles de inventario posibles\n",
    "            D_i=D[i]\n",
    "            D_1=(retorno_decision(1,tamano_L,S,D_i,i))\n",
    "            D_0=retorno_decision(0,tamano_L,S,D_i,i)\n",
    "            if(i<l-1):\n",
    "                D_1 +=R_D[i+1][max(S-D_i,0)]\n",
    "                D_0 +=R_D[i+1][max(S-D_i,0)]\n",
    "            if(D_1>D_0):\n",
    "                Decion[i][s]=1\n",
    "                R_D[i][s]=D_1\n",
    "            else:\n",
    "                Decion[i][s]=0\n",
    "                R_D[i][s]=D_0\n",
    "    I=[0 for i in range(l)]\n",
    "    R=0\n",
    "    DECIS=[0 for i in range(l)]\n",
    "    for i in range(l-1):#periodo\n",
    "        s=I[i]\n",
    "        DECIS[i]=Decion[i][s]\n",
    "        R+=R_D[i][s]\n",
    "        J=max(0,s+Decion[i][s]*tamano_L-D[i])\n",
    "        I[i+1]=min(J,S)\n",
    "    return R"
   ]
  },
  {
   "cell_type": "code",
   "execution_count": null,
   "metadata": {},
   "outputs": [],
   "source": [
    "def Retorno_lote(tamano_L,S,D,):\n",
    "    l=len(D)\n",
    "    Decion=[[ 0 for i in range(S)]for i in range(l)]\n",
    "    R_D=[[ 0 for i in range(S)]for i in range(l)]\n",
    "    I=[0 for i in range(l)]\n",
    "    R=0\n",
    "    DECIS=[0 for i in range(l)]\n",
    "    for i in range(l-1,-1,-1):#periodo desde el ultimo periodo al anterior\n",
    "        for s in range(S):#niveles de inventario posibles\n",
    "            D_i=D[i]\n",
    "            D_1=(retorno_decision(1,tamano_L,S,D_i,i))\n",
    "            D_0=retorno_decision(0,tamano_L,S,D_i,i)\n",
    "            if(i<l-1):\n",
    "                D_1 +=R_D[i+1][max(S-D_i,0)]\n",
    "                D_0 +=R_D[i+1][max(S-D_i,0)]\n",
    "            if(D_1>D_0):\n",
    "                Decion[i][s]=1\n",
    "                R_D[i][s]=D_1\n",
    "            else:\n",
    "                Decion[i][s]=0\n",
    "                R_D[i][s]=D_0\n",
    "    I=[0 for i in range(l)]\n",
    "    R=0\n",
    "    DECIS=[0 for i in range(l)]\n",
    "    for i in range(l-1):#periodo\n",
    "        s=I[i]\n",
    "        DECIS[i]=Decion[i][s]\n",
    "        R+=R_D[i][s]\n",
    "        J=max(0,s+Decion[i][s]*tamano_L-D[i])\n",
    "        I[i+1]=min(J,S)\n",
    "    return R"
   ]
  },
  {
   "cell_type": "code",
   "execution_count": 9,
   "metadata": {
    "scrolled": true
   },
   "outputs": [
    {
     "data": {
      "text/plain": [
       "16200"
      ]
     },
     "execution_count": 9,
     "metadata": {},
     "output_type": "execute_result"
    }
   ],
   "source": [
    "Retorno_lote(tamano_L,S,D)"
   ]
  },
  {
   "cell_type": "code",
   "execution_count": 28,
   "metadata": {},
   "outputs": [
    {
     "data": {
      "text/plain": [
       "[9900, 16800, 18000, 16200, 14400, 12800]"
      ]
     },
     "execution_count": 28,
     "metadata": {},
     "output_type": "execute_result"
    }
   ],
   "source": [
    "[Retorno_lote(i,S,D) for i in range(0,S)]"
   ]
  },
  {
   "cell_type": "code",
   "execution_count": 27,
   "metadata": {
    "scrolled": false
   },
   "outputs": [
    {
     "name": "stdout",
     "output_type": "stream",
     "text": [
      "El tamaño de lote es  2 con una utilidad  18000\n"
     ]
    }
   ],
   "source": [
    "#Fuerza bruta\n",
    "S=6\n",
    "A=[Retorno_lote(i,S,D) for i in range(0,S)]\n",
    "print('El tamaño de lote es ',A.index(max(A)),'con una utilidad ',max(A))\n",
    "    "
   ]
  },
  {
   "cell_type": "code",
   "execution_count": 26,
   "metadata": {},
   "outputs": [
    {
     "name": "stdout",
     "output_type": "stream",
     "text": [
      "El tamaño de lote es  2 con una utilidad  18000\n"
     ]
    }
   ],
   "source": [
    "#Aplicación con busqueda local, cuando el tamaño del frigobar es muy grande\n",
    "S=6\n",
    "for i in range(1,6):\n",
    "   if(Retorno_lote(i,S,D)<Retorno_lote(i-1,S,D)):\n",
    "    print('El tamaño de lote es ',i-1,'con una utilidad ',Retorno_lote(i-1,S,D))\n",
    "    break\n"
   ]
  }
 ],
 "metadata": {
  "kernelspec": {
   "display_name": "Python 3",
   "language": "python",
   "name": "python3"
  },
  "language_info": {
   "codemirror_mode": {
    "name": "ipython",
    "version": 3
   },
   "file_extension": ".py",
   "mimetype": "text/x-python",
   "name": "python",
   "nbconvert_exporter": "python",
   "pygments_lexer": "ipython3",
   "version": "3.6.8"
  }
 },
 "nbformat": 4,
 "nbformat_minor": 2
}
